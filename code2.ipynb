{
 "cells": [
  {
   "cell_type": "code",
   "execution_count": 118,
   "metadata": {},
   "outputs": [],
   "source": [
    "import sympy as sym\n",
    "import numpy as np\n",
    "import numba as nb\n",
    "\n",
    "from IPython.display import display, Math\n",
    "\n",
    "from einsteinpy.symbolic import BaseRelativityTensor, ChristoffelSymbols\n",
    "from einsteinpy.symbolic.tensor import Tensor\n",
    "\n",
    "from fpdf import FPDF\n",
    "import pylatex as pltx\n",
    "\n",
    "sym.init_printing()"
   ]
  },
  {
   "cell_type": "code",
   "execution_count": 27,
   "metadata": {},
   "outputs": [],
   "source": [
    "r, M, a, Q, theta, T, gamma = sym.symbols('r, M, a, Q, theta, T, gamma')\n",
    "rho, Delta = sym.symbols('rho, Delta')"
   ]
  },
  {
   "cell_type": "code",
   "execution_count": 82,
   "metadata": {},
   "outputs": [],
   "source": [
    "def connCoeff(alpha, mu, nu):\n",
    "    h = r**2 + a**2\n",
    "    rho_sub = r**2 + a**2 * sym.cos(theta)**2\n",
    "    Delta_sub = r**2 - 2*M*r + a**2 + Q**2\n",
    "\n",
    "    g_mu_nu = sym.diag(\n",
    "        Delta/rho**2,\n",
    "        -rho**2/Delta,\n",
    "        -rho**2,\n",
    "        -h**2 * sym.sin(theta**2) / rho**2\n",
    "    )\n",
    "    g_mu_nu_inv = g_mu_nu.inv()\n",
    "\n",
    "    diff_arr = [T, r, theta, gamma]\n",
    "    gmn_l = g_mu_nu.subs([(rho**2, rho_sub), (Delta, Delta_sub)]).tolist()\n",
    "    gmn_i_l = g_mu_nu_inv.subs([(rho**2, rho_sub), (Delta, Delta_sub)]).tolist()\n",
    "\n",
    "    conn = gmn_i_l[alpha][alpha] * (\n",
    "        sym.diff(gmn_l[nu][alpha], diff_arr[mu]) + \n",
    "        sym.diff(gmn_l[alpha][mu], diff_arr[nu]) -\n",
    "        sym.diff(gmn_l[mu][nu], diff_arr[alpha])\n",
    "    )\n",
    "\n",
    "    conn *= sym.Rational(1,2)\n",
    "    conn = conn.subs([(rho_sub, rho**2), (Delta_sub, Delta)])\n",
    "\n",
    "    return conn"
   ]
  },
  {
   "cell_type": "code",
   "execution_count": 83,
   "metadata": {},
   "outputs": [
    {
     "data": {
      "image/png": "[encoded data removed]",
      "text/latex": [
       "$\\displaystyle \\frac{r}{\\rho^{2}}$"
      ],
      "text/plain": [
       "r \n",
       "──\n",
       " 2\n",
       "ρ "
      ]
     },
     "execution_count": 83,
     "metadata": {},
     "output_type": "execute_result"
    }
   ],
   "source": [
    "connCoeff(2, 2, 1).simplify()"
   ]
  },
  {
   "cell_type": "code",
   "execution_count": 106,
   "metadata": {},
   "outputs": [],
   "source": [
    "def getConnCoeffMatrix():\n",
    "    conn_coeff_matrix = np.zeros(shape=(4,4,4)).tolist()\n",
    "    for i in range(4):\n",
    "        for j in range(4):\n",
    "            for k in range(4):\n",
    "                conn_coeff_matrix[i][j][k] = connCoeff(i, j, k).simplify()\n",
    "\n",
    "    return conn_coeff_matrix"
   ]
  },
  {
   "cell_type": "code",
   "execution_count": 107,
   "metadata": {},
   "outputs": [],
   "source": [
    "conn_coeff_matrix = getConnCoeffMatrix()"
   ]
  },
  {
   "cell_type": "code",
   "execution_count": 156,
   "metadata": {},
   "outputs": [
    {
     "data": {
      "text/latex": [
       "$\\displaystyle \\alpha= 0$"
      ],
      "text/plain": [
       "<IPython.core.display.Math object>"
      ]
     },
     "metadata": {},
     "output_type": "display_data"
    },
    {
     "data": {
      "text/latex": [
       "$\\displaystyle \\mu = 0 =>\\ \\nu =0,- \\frac{r}{\\rho^{2}} - \\frac{M}{\\Delta} + \\frac{r}{\\Delta},\\frac{a^{2} \\sin{\\left(2 \\theta \\right)}}{2 \\rho^{2}},0$"
      ],
      "text/plain": [
       "<IPython.core.display.Math object>"
      ]
     },
     "metadata": {},
     "output_type": "display_data"
    },
    {
     "name": "stdout",
     "output_type": "stream",
     "text": [
      "\n",
      "\n"
     ]
    },
    {
     "data": {
      "text/latex": [
       "$\\displaystyle \\mu = 1 =>\\ \\nu =- \\frac{r}{\\rho^{2}} - \\frac{M}{\\Delta} + \\frac{r}{\\Delta},0,0,0$"
      ],
      "text/plain": [
       "<IPython.core.display.Math object>"
      ]
     },
     "metadata": {},
     "output_type": "display_data"
    },
    {
     "name": "stdout",
     "output_type": "stream",
     "text": [
      "\n",
      "\n"
     ]
    },
    {
     "data": {
      "text/latex": [
       "$\\displaystyle \\mu = 2 =>\\ \\nu =\\frac{a^{2} \\sin{\\left(2 \\theta \\right)}}{2 \\rho^{2}},0,0,0$"
      ],
      "text/plain": [
       "<IPython.core.display.Math object>"
      ]
     },
     "metadata": {},
     "output_type": "display_data"
    },
    {
     "name": "stdout",
     "output_type": "stream",
     "text": [
      "\n",
      "\n"
     ]
    },
    {
     "data": {
      "text/latex": [
       "$\\displaystyle \\mu = 3 =>\\ \\nu =0,0,0,0$"
      ],
      "text/plain": [
       "<IPython.core.display.Math object>"
      ]
     },
     "metadata": {},
     "output_type": "display_data"
    },
    {
     "name": "stdout",
     "output_type": "stream",
     "text": [
      "\n",
      "\n"
     ]
    },
    {
     "data": {
      "text/latex": [
       "$\\displaystyle \\alpha= 1$"
      ],
      "text/plain": [
       "<IPython.core.display.Math object>"
      ]
     },
     "metadata": {},
     "output_type": "display_data"
    },
    {
     "data": {
      "text/latex": [
       "$\\displaystyle \\mu = 0 =>\\ \\nu =- \\frac{\\Delta \\left(\\Delta r + \\rho^{2} \\left(M - r\\right)\\right)}{\\rho^{6}},0,0,0$"
      ],
      "text/plain": [
       "<IPython.core.display.Math object>"
      ]
     },
     "metadata": {},
     "output_type": "display_data"
    },
    {
     "name": "stdout",
     "output_type": "stream",
     "text": [
      "\n",
      "\n"
     ]
    },
    {
     "data": {
      "text/latex": [
       "$\\displaystyle \\mu = 1 =>\\ \\nu =0,\\frac{r}{\\rho^{2}} + \\frac{M}{\\Delta} - \\frac{r}{\\Delta},- \\frac{a^{2} \\sin{\\left(2 \\theta \\right)}}{2 \\rho^{2}},0$"
      ],
      "text/plain": [
       "<IPython.core.display.Math object>"
      ]
     },
     "metadata": {},
     "output_type": "display_data"
    },
    {
     "name": "stdout",
     "output_type": "stream",
     "text": [
      "\n",
      "\n"
     ]
    },
    {
     "data": {
      "text/latex": [
       "$\\displaystyle \\mu = 2 =>\\ \\nu =0,- \\frac{a^{2} \\sin{\\left(2 \\theta \\right)}}{2 \\rho^{2}},- \\frac{\\Delta r}{\\rho^{2}},0$"
      ],
      "text/plain": [
       "<IPython.core.display.Math object>"
      ]
     },
     "metadata": {},
     "output_type": "display_data"
    },
    {
     "name": "stdout",
     "output_type": "stream",
     "text": [
      "\n",
      "\n"
     ]
    },
    {
     "data": {
      "text/latex": [
       "$\\displaystyle \\mu = 3 =>\\ \\nu =0,0,0,\\frac{\\Delta r \\left(a^{2} + r^{2}\\right) \\left(a^{2} + r^{2} - 2 \\rho^{2}\\right) \\sin{\\left(\\theta^{2} \\right)}}{\\rho^{6}}$"
      ],
      "text/plain": [
       "<IPython.core.display.Math object>"
      ]
     },
     "metadata": {},
     "output_type": "display_data"
    },
    {
     "name": "stdout",
     "output_type": "stream",
     "text": [
      "\n",
      "\n"
     ]
    },
    {
     "data": {
      "text/latex": [
       "$\\displaystyle \\alpha= 2$"
      ],
      "text/plain": [
       "<IPython.core.display.Math object>"
      ]
     },
     "metadata": {},
     "output_type": "display_data"
    },
    {
     "data": {
      "text/latex": [
       "$\\displaystyle \\mu = 0 =>\\ \\nu =\\frac{\\Delta a^{2} \\sin{\\left(2 \\theta \\right)}}{2 \\rho^{6}},0,0,0$"
      ],
      "text/plain": [
       "<IPython.core.display.Math object>"
      ]
     },
     "metadata": {},
     "output_type": "display_data"
    },
    {
     "name": "stdout",
     "output_type": "stream",
     "text": [
      "\n",
      "\n"
     ]
    },
    {
     "data": {
      "text/latex": [
       "$\\displaystyle \\mu = 1 =>\\ \\nu =0,\\frac{a^{2} \\sin{\\left(2 \\theta \\right)}}{2 \\Delta \\rho^{2}},\\frac{r}{\\rho^{2}},0$"
      ],
      "text/plain": [
       "<IPython.core.display.Math object>"
      ]
     },
     "metadata": {},
     "output_type": "display_data"
    },
    {
     "name": "stdout",
     "output_type": "stream",
     "text": [
      "\n",
      "\n"
     ]
    },
    {
     "data": {
      "text/latex": [
       "$\\displaystyle \\mu = 2 =>\\ \\nu =0,\\frac{r}{\\rho^{2}},- \\frac{a^{2} \\sin{\\left(2 \\theta \\right)}}{2 \\rho^{2}},0$"
      ],
      "text/plain": [
       "<IPython.core.display.Math object>"
      ]
     },
     "metadata": {},
     "output_type": "display_data"
    },
    {
     "name": "stdout",
     "output_type": "stream",
     "text": [
      "\n",
      "\n"
     ]
    },
    {
     "data": {
      "text/latex": [
       "$\\displaystyle \\mu = 3 =>\\ \\nu =0,0,0,\\frac{\\left(a^{2} + r^{2}\\right)^{2} \\left(- \\frac{a^{2} \\left(\\cos{\\left(\\theta \\left(\\theta - 2\\right) \\right)} - \\cos{\\left(\\theta \\left(\\theta + 2\\right) \\right)}\\right)}{4} - \\rho^{2} \\theta \\cos{\\left(\\theta^{2} \\right)}\\right)}{\\rho^{6}}$"
      ],
      "text/plain": [
       "<IPython.core.display.Math object>"
      ]
     },
     "metadata": {},
     "output_type": "display_data"
    },
    {
     "name": "stdout",
     "output_type": "stream",
     "text": [
      "\n",
      "\n"
     ]
    },
    {
     "data": {
      "text/latex": [
       "$\\displaystyle \\alpha= 3$"
      ],
      "text/plain": [
       "<IPython.core.display.Math object>"
      ]
     },
     "metadata": {},
     "output_type": "display_data"
    },
    {
     "data": {
      "text/latex": [
       "$\\displaystyle \\mu = 0 =>\\ \\nu =0,0,0,0$"
      ],
      "text/plain": [
       "<IPython.core.display.Math object>"
      ]
     },
     "metadata": {},
     "output_type": "display_data"
    },
    {
     "name": "stdout",
     "output_type": "stream",
     "text": [
      "\n",
      "\n"
     ]
    },
    {
     "data": {
      "text/latex": [
       "$\\displaystyle \\mu = 1 =>\\ \\nu =0,0,0,\\frac{r \\left(- a^{2} - r^{2} + 2 \\rho^{2}\\right)}{\\rho^{2} \\left(a^{2} + r^{2}\\right)}$"
      ],
      "text/plain": [
       "<IPython.core.display.Math object>"
      ]
     },
     "metadata": {},
     "output_type": "display_data"
    },
    {
     "name": "stdout",
     "output_type": "stream",
     "text": [
      "\n",
      "\n"
     ]
    },
    {
     "data": {
      "text/latex": [
       "$\\displaystyle \\mu = 2 =>\\ \\nu =0,0,0,\\frac{a^{2} \\sin{\\left(2 \\theta \\right)}}{2 \\rho^{2}} + \\frac{\\theta}{\\tan{\\left(\\theta^{2} \\right)}}$"
      ],
      "text/plain": [
       "<IPython.core.display.Math object>"
      ]
     },
     "metadata": {},
     "output_type": "display_data"
    },
    {
     "name": "stdout",
     "output_type": "stream",
     "text": [
      "\n",
      "\n"
     ]
    },
    {
     "data": {
      "text/latex": [
       "$\\displaystyle \\mu = 3 =>\\ \\nu =0,\\frac{r \\left(- a^{2} - r^{2} + 2 \\rho^{2}\\right)}{\\rho^{2} \\left(a^{2} + r^{2}\\right)},\\frac{a^{2} \\sin{\\left(2 \\theta \\right)}}{2 \\rho^{2}} + \\frac{\\theta}{\\tan{\\left(\\theta^{2} \\right)}},0$"
      ],
      "text/plain": [
       "<IPython.core.display.Math object>"
      ]
     },
     "metadata": {},
     "output_type": "display_data"
    },
    {
     "name": "stdout",
     "output_type": "stream",
     "text": [
      "\n",
      "\n"
     ]
    }
   ],
   "source": [
    "for i in range(4):\n",
    "    display(Math(sym.latex(sym.symbols('alpha')) + f\"= {str(i)}\"))\n",
    "    for j in range(4):\n",
    "        text = \"\"\n",
    "        for k in range(4):\n",
    "            text += f'{sym.latex(conn_coeff_matrix[i][j][k])},'\n",
    "        display(Math(f'{sym.latex(sym.symbols(\"mu\"))} = {j} =>\\ {sym.latex(sym.symbols(\"nu\"))} =' + text[:-1]))\n",
    "            \n",
    "        print(\"\\n\")"
   ]
  },
  {
   "cell_type": "code",
   "execution_count": null,
   "metadata": {},
   "outputs": [],
   "source": []
  }
 ],
 "metadata": {
  "kernelspec": {
   "display_name": "base",
   "language": "python",
   "name": "python3"
  },
  "language_info": {
   "codemirror_mode": {
    "name": "ipython",
    "version": 3
   },
   "file_extension": ".py",
   "mimetype": "text/x-python",
   "name": "python",
   "nbconvert_exporter": "python",
   "pygments_lexer": "ipython3",
   "version": "3.8.15"
  },
  "orig_nbformat": 4
 },
 "nbformat": 4,
 "nbformat_minor": 2
}
