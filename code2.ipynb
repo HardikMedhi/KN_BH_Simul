{
 "cells": [
  {
   "cell_type": "code",
   "execution_count": 16,
   "metadata": {},
   "outputs": [],
   "source": [
    "import sympy as sym\n",
    "from einsteinpy.symbolic import BaseRelativityTensor, ChristoffelSymbols\n",
    "from einsteinpy.symbolic.tensor import Tensor\n",
    "\n",
    "sym.init_printing()"
   ]
  },
  {
   "cell_type": "code",
   "execution_count": 27,
   "metadata": {},
   "outputs": [],
   "source": [
    "r, M, a, Q, theta, T, gamma = sym.symbols('r, M, a, Q, theta, T, gamma')\n",
    "rho, Delta = sym.symbols('rho, Delta')"
   ]
  },
  {
   "cell_type": "code",
   "execution_count": 63,
   "metadata": {},
   "outputs": [],
   "source": [
    "def connCoeff(alpha, mu, nu):\n",
    "    h = r**2 + a**2\n",
    "    rho_sub = r**2 + a**2 * sym.cos(theta)**2\n",
    "    Delta_sub = r**2 - 2*M*r + a**2 + Q**2\n",
    "\n",
    "    g_mu_nu = sym.diag(\n",
    "        Delta/rho**2,\n",
    "        -rho**2/Delta,\n",
    "        -rho**2,\n",
    "        -h**2 * sym.sin(theta**2) / rho**2\n",
    "    )\n",
    "    g_mu_nu_inv = g_mu_nu.inv()\n",
    "\n",
    "    diff_arr = [T, r, theta, gamma]\n",
    "    gmn_l = g_mu_nu.subs([(rho**2, rho_sub), (Delta, Delta_sub)]).tolist()\n",
    "    gmn_i_l = g_mu_nu_inv.subs([(rho**2, rho_sub), (Delta, Delta_sub)]).tolist()\n",
    "\n",
    "    conn = gmn_i_l[alpha][alpha] * (\n",
    "        sym.diff(gmn_l[nu][alpha], diff_arr[mu]) + \n",
    "        sym.diff(gmn_l[alpha][mu], diff_arr[nu]) -\n",
    "        sym.diff(gmn_l[mu][nu], diff_arr[alpha])\n",
    "    )\n",
    "\n",
    "    conn *= sym.Rational(1,2)\n",
    "    conn = conn.subs([(rho_sub, rho**2), (Delta_sub, Delta)])\n",
    "\n",
    "    return conn"
   ]
  },
  {
   "cell_type": "code",
   "execution_count": 70,
   "metadata": {},
   "outputs": [
    {
     "data": {
      "image/png": "[encoded data removed]",
      "text/latex": [
       "$\\displaystyle \\frac{r}{\\rho^{2}}$"
      ],
      "text/plain": [
       "r \n",
       "──\n",
       " 2\n",
       "ρ "
      ]
     },
     "execution_count": 70,
     "metadata": {},
     "output_type": "execute_result"
    }
   ],
   "source": [
    "connCoeff(2, 2, 1).simplify()"
   ]
  },
  {
   "cell_type": "code",
   "execution_count": null,
   "metadata": {},
   "outputs": [],
   "source": []
  }
 ],
 "metadata": {
  "kernelspec": {
   "display_name": "base",
   "language": "python",
   "name": "python3"
  },
  "language_info": {
   "codemirror_mode": {
    "name": "ipython",
    "version": 3
   },
   "file_extension": ".py",
   "mimetype": "text/x-python",
   "name": "python",
   "nbconvert_exporter": "python",
   "pygments_lexer": "ipython3",
   "version": "3.8.15"
  },
  "orig_nbformat": 4
 },
 "nbformat": 4,
 "nbformat_minor": 2
}
