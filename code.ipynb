{
 "cells": [
  {
   "cell_type": "code",
   "execution_count": 1,
   "metadata": {},
   "outputs": [],
   "source": [
    "import sympy as sym\n",
    "\n",
    "sym.init_printing()"
   ]
  },
  {
   "cell_type": "code",
   "execution_count": 2,
   "metadata": {},
   "outputs": [],
   "source": [
    "r, M, a, Q, theta = sym.symbols('r M a Q theta')"
   ]
  },
  {
   "cell_type": "code",
   "execution_count": 3,
   "metadata": {},
   "outputs": [],
   "source": [
    "rho_2 = r**2 + (a**2)*(sym.cos(theta))**2\n",
    "delta = r**2 - 2*M*r + a**2 + Q**2"
   ]
  },
  {
   "cell_type": "code",
   "execution_count": 4,
   "metadata": {},
   "outputs": [],
   "source": [
    "rho, Delta = sym.symbols('rho, Delta')"
   ]
  },
  {
   "cell_type": "code",
   "execution_count": 5,
   "metadata": {},
   "outputs": [
    {
     "data": {
      "image/png": "[encoded data removed]",
      "text/latex": [
       "$\\displaystyle \\left( \\rho, \\  - 2 M r + Q^{2} + a^{2} + r^{2}\\right)$"
      ],
      "text/plain": [
       "⎛             2    2    2⎞\n",
       "⎝ρ, -2⋅M⋅r + Q  + a  + r ⎠"
      ]
     },
     "execution_count": 5,
     "metadata": {},
     "output_type": "execute_result"
    }
   ],
   "source": [
    "rho, delta"
   ]
  },
  {
   "cell_type": "code",
   "execution_count": 6,
   "metadata": {},
   "outputs": [],
   "source": [
    "A = (a**2 * (sym.sin(theta)**2) - delta)/rho_2\n",
    "B = -rho_2/delta\n",
    "C = -rho_2\n",
    "D = (delta * a**2 * (sym.sin(theta))**4 - (r**2 + a**2)**2 * (sym.sin(theta))**2)/rho_2\n",
    "E = (2*(r**2 + a**2)*a*sym.sin(theta)**2 - 2*delta*a*sym.sin(theta)**2)/rho_2\n",
    "F = (-2*delta*a*sym.sin(theta)**2)/rho_2"
   ]
  },
  {
   "cell_type": "code",
   "execution_count": 7,
   "metadata": {},
   "outputs": [],
   "source": [
    "h = r**2 + a**2"
   ]
  },
  {
   "cell_type": "code",
   "execution_count": 8,
   "metadata": {},
   "outputs": [],
   "source": [
    "g_mu_nu = sym.Matrix([\n",
    "    [delta/rho**2, 0, 0, 0],\n",
    "    [0, -rho**2/delta, 0, 0],\n",
    "    [0, 0, -rho**2, 0],\n",
    "    [0, 0, 0, -h**2 * sym.sin(theta)**2 / rho**2]\n",
    "])"
   ]
  },
  {
   "cell_type": "code",
   "execution_count": 9,
   "metadata": {},
   "outputs": [
    {
     "data": {
      "image/png": "[encoded data removed]",
      "text/latex": [
       "$\\displaystyle \\left[\\begin{matrix}\\frac{- 2 M r + Q^{2} + a^{2} + r^{2}}{\\rho^{2}} & 0 & 0 & 0\\\\0 & - \\frac{\\rho^{2}}{- 2 M r + Q^{2} + a^{2} + r^{2}} & 0 & 0\\\\0 & 0 & - \\rho^{2} & 0\\\\0 & 0 & 0 & - \\frac{\\left(a^{2} + r^{2}\\right)^{2} \\sin^{2}{\\left(\\theta \\right)}}{\\rho^{2}}\\end{matrix}\\right]$"
      ],
      "text/plain": [
       "⎡          2    2    2                                                  ⎤\n",
       "⎢-2⋅M⋅r + Q  + a  + r                                                   ⎥\n",
       "⎢─────────────────────            0             0            0          ⎥\n",
       "⎢           2                                                           ⎥\n",
       "⎢          ρ                                                            ⎥\n",
       "⎢                                                                       ⎥\n",
       "⎢                                  2                                    ⎥\n",
       "⎢                                -ρ                                     ⎥\n",
       "⎢          0            ─────────────────────   0            0          ⎥\n",
       "⎢                                 2    2    2                           ⎥\n",
       "⎢                       -2⋅M⋅r + Q  + a  + r                            ⎥\n",
       "⎢                                                                       ⎥\n",
       "⎢                                                2                      ⎥\n",
       "⎢          0                      0            -ρ            0          ⎥\n",
       "⎢                                                                       ⎥\n",
       "⎢                                                             2         ⎥\n",
       "⎢                                                    ⎛ 2    2⎞     2    ⎥\n",
       "⎢                                                   -⎝a  + r ⎠ ⋅sin (θ) ⎥\n",
       "⎢          0                      0             0   ────────────────────⎥\n",
       "⎢                                                             2         ⎥\n",
       "⎣                                                            ρ          ⎦"
      ]
     },
     "execution_count": 9,
     "metadata": {},
     "output_type": "execute_result"
    }
   ],
   "source": [
    "g_mu_nu"
   ]
  },
  {
   "cell_type": "code",
   "execution_count": 10,
   "metadata": {},
   "outputs": [
    {
     "data": {
      "image/png": "[encoded data removed]",
      "text/latex": [
       "$\\displaystyle \\left[\\begin{matrix}\\frac{\\rho^{2}}{- 2 M r + Q^{2} + a^{2} + r^{2}} & 0 & 0 & 0\\\\0 & \\frac{2 M r - Q^{2} - a^{2} - r^{2}}{\\rho^{2}} & 0 & 0\\\\0 & 0 & - \\frac{1}{\\rho^{2}} & 0\\\\0 & 0 & 0 & - \\frac{\\rho^{2}}{\\left(a^{4} + 2 a^{2} r^{2} + r^{4}\\right) \\sin^{2}{\\left(\\theta \\right)}}\\end{matrix}\\right]$"
      ],
      "text/plain": [
       "⎡           2                                                                 \n",
       "⎢          ρ                                                                  \n",
       "⎢─────────────────────           0             0                0             \n",
       "⎢          2    2    2                                                        \n",
       "⎢-2⋅M⋅r + Q  + a  + r                                                         \n",
       "⎢                                                                             \n",
       "⎢                                2    2    2                                  \n",
       "⎢                       2⋅M⋅r - Q  - a  - r                                   \n",
       "⎢          0            ────────────────────   0                0             \n",
       "⎢                                 2                                           \n",
       "⎢                                ρ                                            \n",
       "⎢                                                                             \n",
       "⎢                                             -1                              \n",
       "⎢          0                     0            ───               0             \n",
       "⎢                                               2                             \n",
       "⎢                                              ρ                              \n",
       "⎢                                                                             \n",
       "⎢                                                                2            \n",
       "⎢                                                              -ρ             \n",
       "⎢          0                     0             0   ───────────────────────────\n",
       "⎢                                                  ⎛ 4      2  2    4⎞    2   \n",
       "⎣                                                  ⎝a  + 2⋅a ⋅r  + r ⎠⋅sin (θ)\n",
       "\n",
       "⎤\n",
       "⎥\n",
       "⎥\n",
       "⎥\n",
       "⎥\n",
       "⎥\n",
       "⎥\n",
       "⎥\n",
       "⎥\n",
       "⎥\n",
       "⎥\n",
       "⎥\n",
       "⎥\n",
       "⎥\n",
       "⎥\n",
       "⎥\n",
       "⎥\n",
       "⎥\n",
       "⎥\n",
       "⎥\n",
       "⎥\n",
       "⎦"
      ]
     },
     "execution_count": 10,
     "metadata": {},
     "output_type": "execute_result"
    }
   ],
   "source": [
    "sym.simplify(g_mu_nu.inv())"
   ]
  },
  {
   "cell_type": "code",
   "execution_count": 11,
   "metadata": {},
   "outputs": [
    {
     "data": {
      "image/png": "[encoded data removed]",
      "text/latex": [
       "$\\displaystyle - 2 M + 2 r$"
      ],
      "text/plain": [
       "-2⋅M + 2⋅r"
      ]
     },
     "execution_count": 11,
     "metadata": {},
     "output_type": "execute_result"
    }
   ],
   "source": [
    "sym.diff(delta, r)"
   ]
  },
  {
   "cell_type": "code",
   "execution_count": 12,
   "metadata": {},
   "outputs": [],
   "source": [
    "from einsteinpy.symbolic import BaseRelativityTensor"
   ]
  },
  {
   "cell_type": "code",
   "execution_count": null,
   "metadata": {},
   "outputs": [],
   "source": []
  }
 ],
 "metadata": {
  "kernelspec": {
   "display_name": "base",
   "language": "python",
   "name": "python3"
  },
  "language_info": {
   "codemirror_mode": {
    "name": "ipython",
    "version": 3
   },
   "file_extension": ".py",
   "mimetype": "text/x-python",
   "name": "python",
   "nbconvert_exporter": "python",
   "pygments_lexer": "ipython3",
   "version": "3.8.15"
  },
  "orig_nbformat": 4
 },
 "nbformat": 4,
 "nbformat_minor": 2
}
